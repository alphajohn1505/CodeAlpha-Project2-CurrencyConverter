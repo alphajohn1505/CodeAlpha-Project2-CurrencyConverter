{
 "cells": [
  {
   "cell_type": "code",
   "execution_count": 1,
   "id": "94b31d13",
   "metadata": {},
   "outputs": [],
   "source": [
    "import tkinter as tk\n",
    "from tkinter import ttk\n",
    "\n",
    "class CurrencyConverterApp:\n",
    "    def __init__(self, root):\n",
    "        self.root = root\n",
    "        \n",
    "        self.root.title(\"Currency Converter\")\n",
    "        \n",
    "        self.from_currency_label = ttk.Label(root, text=\"From Currency:\")\n",
    "        self.from_currency_label.pack()\n",
    "        \n",
    "        self.from_currency_combobox = ttk.Combobox(root, values=[\"USD\", \"EUR\", \"GBP\", \"JPY\"])  # Add more currencies\n",
    "        self.from_currency_combobox.pack()\n",
    "        \n",
    "        self.to_currency_label = ttk.Label(root, text=\"To Currency:\")\n",
    "        self.to_currency_label.pack()\n",
    "        \n",
    "        self.to_currency_combobox = ttk.Combobox(root, values=[\"USD\", \"EUR\", \"GBP\", \"JPY\"])  # Add more currencies\n",
    "        self.to_currency_combobox.pack()\n",
    "        \n",
    "        self.amount_label = ttk.Label(root, text=\"Amount:\")\n",
    "        self.amount_label.pack()\n",
    "        \n",
    "        self.amount_entry = ttk.Entry(root)\n",
    "        self.amount_entry.pack()\n",
    "        \n",
    "        self.convert_button = ttk.Button(root, text=\"Convert\", command=self.convert)\n",
    "        self.convert_button.pack()\n",
    "        \n",
    "        self.result_label = ttk.Label(root, text=\"\")\n",
    "        self.result_label.pack()\n",
    "    \n",
    "    def convert(self):\n",
    "        from_currency = self.from_currency_combobox.get()\n",
    "        to_currency = self.to_currency_combobox.get()\n",
    "        amount = float(self.amount_entry.get())\n",
    "        \n",
    "        exchange_rates = {\n",
    "            \"USD\": 1.0,\n",
    "            \"EUR\": 0.85,\n",
    "            \"GBP\": 0.73,\n",
    "            \"JPY\": 110.37,\n",
    "            # Add more currencies and their exchange rates here\n",
    "        }\n",
    "        \n",
    "        if from_currency in exchange_rates and to_currency in exchange_rates:\n",
    "            converted_amount = (amount / exchange_rates[from_currency]) * exchange_rates[to_currency]\n",
    "            self.result_label.config(text=f\"Converted Amount: {converted_amount:.2f} {to_currency}\")\n",
    "        else:\n",
    "            self.result_label.config(text=\"Invalid currencies selected.\")\n",
    "\n",
    "root = tk.Tk()\n",
    "app = CurrencyConverterApp(root)\n",
    "root.mainloop()"
   ]
  }
 ],
 "metadata": {
  "kernelspec": {
   "display_name": "Python 3 (ipykernel)",
   "language": "python",
   "name": "python3"
  },
  "language_info": {
   "codemirror_mode": {
    "name": "ipython",
    "version": 3
   },
   "file_extension": ".py",
   "mimetype": "text/x-python",
   "name": "python",
   "nbconvert_exporter": "python",
   "pygments_lexer": "ipython3",
   "version": "3.10.9"
  }
 },
 "nbformat": 4,
 "nbformat_minor": 5
}
